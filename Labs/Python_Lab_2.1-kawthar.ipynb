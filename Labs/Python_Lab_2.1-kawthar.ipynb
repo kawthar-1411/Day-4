{
 "cells": [
  {
   "cell_type": "markdown",
   "metadata": {
    "id": "x7F-mxeubDUG"
   },
   "source": [
    "# Python_Lab_2.1\n"
   ]
  },
  {
   "cell_type": "markdown",
   "metadata": {
    "id": "14c6Hn1BbDUH"
   },
   "source": [
    "### Task 1\n",
    "1. Write a function named is_prime that takes a number as a parameter and returns True if the number is prime and False otherwise. Print whether the number 29 is prime."
   ]
  },
  {
   "cell_type": "code",
   "execution_count": 5,
   "metadata": {
    "id": "5e_MZEN0bDUI"
   },
   "outputs": [
    {
     "name": "stdout",
     "output_type": "stream",
     "text": [
      "True\n"
     ]
    }
   ],
   "source": [
    "def is_prime(number):\n",
    "    if number >1:\n",
    "        for i in range(2,number):\n",
    "            if number % i==0:\n",
    "                return False\n",
    "                break\n",
    "            else:\n",
    "                return True\n",
    "                \n",
    "print(is_prime(29))\n"
   ]
  },
  {
   "cell_type": "markdown",
   "metadata": {
    "id": "2zKG8ZcybDUI"
   },
   "source": [
    "### Task 2\n",
    "1. Create a list of 10 numbers and sort them in descending order using the sort() function.\n",
    "2. Use the len() function to print the length of the sorted list.\n",
    "3. Use the zip() function to combine three lists (names, ages, and cities) into a list of tuples.\n",
    "4. Use the range() function to create a list of even numbers from 2 to 20 and print the list."
   ]
  },
  {
   "cell_type": "code",
   "execution_count": 33,
   "metadata": {
    "id": "yyoe__M_bDUI"
   },
   "outputs": [
    {
     "name": "stdout",
     "output_type": "stream",
     "text": [
      "[100, 90, 89, 89, 67, 50, 34, 32, 12, 10]\n",
      "None\n",
      "10\n",
      "[('NOORA', 25, 'DAMMAM'), ('SARAH', 30, 'RIYADH'), ('RAGAD', 14, 'JEDDAH')]\n",
      "[3, 5, 7, 9, 11, 13, 15, 17, 19]\n"
     ]
    }
   ],
   "source": [
    "##########1\n",
    "list1=[50,34,12,89,100,67,32,90,89,10]\n",
    "list2=list1.sort(reverse=True)\n",
    "print(list1)\n",
    "print(list2)\n",
    "\n",
    "##########2\n",
    "print(len(list1))\n",
    "\n",
    "##########3\n",
    "list_name=['NOORA','SARAH','RAGAD']\n",
    "list_age=[25,30,14]\n",
    "list_cities=['DAMMAM','RIYADH','JEDDAH']\n",
    "tuplex=list(zip(list_name,list_age,list_cities))\n",
    "print(tuplex)\n",
    "\n",
    "###########4\n",
    "list_odd=[]\n",
    "for i in range (3,20,2):\n",
    "    list_odd.append(i)\n",
    "    \n",
    "print(list_odd)\n"
   ]
  },
  {
   "cell_type": "markdown",
   "metadata": {
    "id": "aStW5p7AbDUI"
   },
   "source": [
    "### Task 3\n",
    "Build a phone book program that receives the phone number, and returns the name of the owner.\n",
    "You can follow the table below:\n",
    "\n",
    "| Name     | Number     |\n",
    "| -------- | ---------- |\n",
    "| Amal     | 1111111111 |\n",
    "| Mohammed | 2222222222 |\n",
    "| Khadijah | 3333333333 |\n",
    "| Abdullah | 4444444444 |\n",
    "| Rawan    | 5555555555 |\n",
    "| Faisal   | 6666666666 |\n",
    "| Layla    | 7777777777 |\n",
    "\n",
    "- If the number exists, print the owner. Otherwise, print \"Sorry, the number is not found\".\n",
    "- If the number is less or more than 10 numbers, print \"This is invalid number\".\n",
    "- If the number contains letters or symbols, print \"This is invalid number\".\n"
   ]
  },
  {
   "cell_type": "code",
   "execution_count": 53,
   "metadata": {
    "id": "kvXmjUe-bDUJ"
   },
   "outputs": [
    {
     "name": "stdin",
     "output_type": "stream",
     "text": [
      "please enter the phone number to search about the name  7777777777\n"
     ]
    },
    {
     "name": "stdout",
     "output_type": "stream",
     "text": [
      "the name is :Layla\n"
     ]
    }
   ],
   "source": [
    "name_dection={'Amal':'1111111111','Mohammed':'2222222222','Khadijah':'3333333333','Abdullah':'4444444444','Rawan':'5555555555','Faisal':'6666666666','Layla':'7777777777'}\n",
    "bool=False    \n",
    "phone_no=input('please enter the phone number to search about the name ')\n",
    "if int(len(phone_no)) == 10 and phone_no.isdigit():\n",
    "     for i,j in name_dection.items():\n",
    "         if j==phone_no:\n",
    "             print( 'the name is :'+ i)\n",
    "             bool=True\n",
    "             break           \n",
    "else:\n",
    "         print('This is invalid number ')\n",
    "         bool=True\n",
    "\n",
    "\n",
    "if bool==False:\n",
    "     print( 'Sorry, the number is not found')\n",
    "    \n"
   ]
  },
  {
   "cell_type": "markdown",
   "metadata": {
    "id": "exLHQ28nbDUJ"
   },
   "source": [
    "### Task 4\n",
    "- Given the following list : [5, 4, 17, 19, 30, 2, 7, 10, 45]\n",
    "    1. Use a lambda function to filter out only the odd numbers.\n",
    "    2. Print the new list of odd numbers."
   ]
  },
  {
   "cell_type": "code",
   "execution_count": 55,
   "metadata": {
    "id": "64SUsh1cbDUJ"
   },
   "outputs": [
    {
     "name": "stdout",
     "output_type": "stream",
     "text": [
      "[5, 17, 19, 7, 45]\n"
     ]
    }
   ],
   "source": [
    "odd=lambda i:i%2==1\n",
    "list1=[5,4,17,19,30,2,7,10,45]\n",
    "list3=[]\n",
    "for i in list1:\n",
    "  if odd(i)==True:\n",
    "    list3.append(i)\n",
    "      \n",
    "print(list3)      "
   ]
  },
  {
   "cell_type": "code",
   "execution_count": null,
   "metadata": {},
   "outputs": [],
   "source": []
  }
 ],
 "metadata": {
  "colab": {
   "provenance": []
  },
  "kernelspec": {
   "display_name": "Python 3 (ipykernel)",
   "language": "python",
   "name": "python3"
  },
  "language_info": {
   "codemirror_mode": {
    "name": "ipython",
    "version": 3
   },
   "file_extension": ".py",
   "mimetype": "text/x-python",
   "name": "python",
   "nbconvert_exporter": "python",
   "pygments_lexer": "ipython3",
   "version": "3.12.4"
  }
 },
 "nbformat": 4,
 "nbformat_minor": 4
}
