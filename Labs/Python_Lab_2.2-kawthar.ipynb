{
 "cells": [
  {
   "cell_type": "markdown",
   "metadata": {
    "id": "E9Y5ss1ZYj3r"
   },
   "source": [
    "# Python_Lab_2.2\n"
   ]
  },
  {
   "cell_type": "markdown",
   "metadata": {
    "id": "Q1kAqc72Yj3t"
   },
   "source": [
    "### Task 1\n",
    "1. Write a program that prompts the user to enter two numbers and prints their division. Handle cases where the user enters non-numeric values or attempts to divide by zero using a try-except block.\n"
   ]
  },
  {
   "cell_type": "code",
   "execution_count": 7,
   "metadata": {
    "id": "H-xyoRTVYj3t"
   },
   "outputs": [
    {
     "name": "stdin",
     "output_type": "stream",
     "text": [
      "please enter the first number 1\n",
      "please enter the second number a\n"
     ]
    },
    {
     "name": "stdout",
     "output_type": "stream",
     "text": [
      "can not make the division operator\n"
     ]
    }
   ],
   "source": [
    "num1=input('please enter the first number')\n",
    "num2=input('please enter the second number')\n",
    "\n",
    "try:\n",
    "    num1=int(num1)\n",
    "    num2=int(num2)\n",
    "    div=num1/num2\n",
    "    print(div)\n",
    "except:\n",
    "    print('can not make the division operator')"
   ]
  },
  {
   "cell_type": "markdown",
   "metadata": {
    "id": "CPWcDSC_Yj3u"
   },
   "source": [
    "### Task 2\n",
    "- Use \"Random\" library to do the following:\n",
    "    1. Create a list of random numbers using list comprehension.\n",
    "    2. Create a list of squares of the even numbers from random numbers using list comprehension.\n",
    "    3. Create a list of tuples (number, square) for random numbers using list comprehension."
   ]
  },
  {
   "cell_type": "code",
   "execution_count": 22,
   "metadata": {
    "id": "Yfq-i6CeYj3u"
   },
   "outputs": [
    {
     "name": "stdout",
     "output_type": "stream",
     "text": [
      "[31, 50, 64, 21, 85, 41, 98, 92, 71, 41]\n",
      "[961, 441, 7225, 1681, 5041, 1681]\n",
      "[(31, 961), (21, 441), (85, 7225), (41, 1681), (71, 5041), (41, 1681)]\n"
     ]
    }
   ],
   "source": [
    "import random\n",
    "list_rand=[random.randrange(1,100) for num in range(0,10)]\n",
    "print(list_rand)\n",
    "\n",
    "list_odd=[i for i in list_rand if i%2==1]\n",
    "\n",
    "list_odd_square=[i**2 for i in list_rand if i%2==1]\n",
    "print(list_odd_square)\n",
    "\n",
    "list_tuple=list(zip(list_odd,list_odd_square) )\n",
    "print(list_tuple)"
   ]
  },
  {
   "cell_type": "markdown",
   "metadata": {
    "id": "jYdOq46NYj3u"
   },
   "source": [
    "### Task 3\n",
    "- Create a dictionary where the keys are numbers from 1 to 5 and the values are list of their squares and cubes.\n",
    "\n",
    "  - **hint**: use dictionary of list comprehension.\n",
    "\n",
    "- Create a dictionary from two lists (one with keys and one with values) using dictionary comprehension.\n",
    "\n"
   ]
  },
  {
   "cell_type": "code",
   "execution_count": 34,
   "metadata": {
    "id": "IEnsiNmCYj3u"
   },
   "outputs": [
    {
     "name": "stdout",
     "output_type": "stream",
     "text": [
      "{1: [1, 1], 2: [4, 8], 3: [9, 27], 4: [16, 64], 5: [25, 125]}\n",
      "{'sarah': 25, 'norah': 60, 'jomana': 13, 'noor': 35}\n"
     ]
    }
   ],
   "source": [
    "list_dic=[i for i in range(1,6)]\n",
    "dic_list={i:[i**2,i**3] for i in list_dic}\n",
    "print(dic_list)\n",
    "first_list=['sarah','norah','jomana','noor']\n",
    "second_list=[25,60,13,35]\n",
    "dic2={i:j for (i,j) in zip(first_list,second_list)}\n",
    "print(dic2)"
   ]
  },
  {
   "cell_type": "markdown",
   "metadata": {
    "id": "6T9TCQ8SYj3v"
   },
   "source": [
    "### Task 4\n",
    "- Given a dictionary where keys are student names and values are lists of their scores, write a function that updates the scores of students who have achieved a perfect score (100) by adding a bonus of 5 points to each score. Use dictionary comprehension to achieve this.\n",
    "\n",
    "    - Implement the function add_bonus_to_perfect_scores(student_scores) that adds a bonus of 5 points to each score of students who have achieved a perfect score (100)."
   ]
  },
  {
   "cell_type": "code",
   "execution_count": 62,
   "metadata": {
    "id": "T3R_VsQpYj3v"
   },
   "outputs": [
    {
     "name": "stdout",
     "output_type": "stream",
     "text": [
      "{'ahmad': [100, 79, 80], 'salem': [77, 88, 99], 'saleh': [100, 99, 98], 'mohammad': [80, 77, 99], 'ebraheem': [100, 90, 95], 'saad': [79, 80, 100]}\n",
      "{'ahmad': [[105, 79, 80]], 'salem': [[77, 88, 99]], 'saleh': [[105, 99, 98]], 'mohammad': [[80, 77, 99]], 'ebraheem': [[105, 90, 95]], 'saad': [[79, 80, 105]]}\n"
     ]
    }
   ],
   "source": [
    "diction_score={'ahmad':[100,79,80],'salem':[77,88,99],'saleh':[100,99,98],'mohammad':[80,77,99],'ebraheem':[100,90,95],'saad':[79,80,100]}\n",
    "print(diction_score)\n",
    "\n",
    "def add_score (list_score):\n",
    "     list_score_update=list_score\n",
    "    \n",
    "     for m in range(0,3):\n",
    "         \n",
    "        if list_score[0][m]==100:\n",
    "             list_score_update[0][m]=list_score_update[0][m]+5\n",
    "            \n",
    "     return list_score_update\n",
    "             \n",
    "            \n",
    "diction_update={i:add_score([j]) for (i,j)in diction_score.items()}\n",
    "\n",
    "print(diction_update)\n",
    "            "
   ]
  },
  {
   "cell_type": "markdown",
   "metadata": {
    "id": "rJkOEFAwYj3v"
   },
   "source": []
  },
  {
   "cell_type": "code",
   "execution_count": null,
   "metadata": {},
   "outputs": [],
   "source": []
  },
  {
   "cell_type": "code",
   "execution_count": null,
   "metadata": {},
   "outputs": [],
   "source": []
  }
 ],
 "metadata": {
  "colab": {
   "provenance": []
  },
  "kernelspec": {
   "display_name": "Python 3 (ipykernel)",
   "language": "python",
   "name": "python3"
  },
  "language_info": {
   "codemirror_mode": {
    "name": "ipython",
    "version": 3
   },
   "file_extension": ".py",
   "mimetype": "text/x-python",
   "name": "python",
   "nbconvert_exporter": "python",
   "pygments_lexer": "ipython3",
   "version": "3.12.4"
  }
 },
 "nbformat": 4,
 "nbformat_minor": 4
}
